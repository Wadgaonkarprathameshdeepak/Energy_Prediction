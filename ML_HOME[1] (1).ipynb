{
  "cells": [
    {
      "cell_type": "code",
      "execution_count": null,
      "metadata": {
        "id": "dNFcWM2-uqt9"
      },
      "outputs": [],
      "source": [
        "import pandas as pd\n",
        "import numpy as np\n",
        "from sklearn.linear_model import LogisticRegression\n",
        "from sklearn.model_selection import train_test_split\n",
        "import seaborn as sns\n"
      ]
    },
    {
      "cell_type": "code",
      "execution_count": null,
      "metadata": {
        "colab": {
          "base_uri": "https://localhost:8080/",
          "height": 206
        },
        "id": "V5ww6d_ruvfc",
        "outputId": "f71a65e0-19b3-41c4-8a2c-f72340ef17cd"
      },
      "outputs": [
        {
          "output_type": "execute_result",
          "data": {
            "text/plain": [
              "   Year        City           Waste_Type  Collected_Waste  Recycled_Waste  \\\n",
              "0  2010  Aurangabad           Food waste           640500          102400   \n",
              "1  2010  Aurangabad      Paper/Cardboard          1383900          738200   \n",
              "2  2010  Aurangabad             Plastics           740400           78100   \n",
              "3  2010  Aurangabad  Construction Debris           921800          912400   \n",
              "4  2010  Aurangabad          Wood/Timber           270000          190000   \n",
              "\n",
              "   Recycling_Rate  Energy_Genrate  \n",
              "0            0.16               0  \n",
              "1            0.53               1  \n",
              "2            0.11               1  \n",
              "3            0.99               1  \n",
              "4            0.70               1  "
            ],
            "text/html": [
              "\n",
              "  <div id=\"df-51de1716-7f44-4d37-a929-8b973c27da91\">\n",
              "    <div class=\"colab-df-container\">\n",
              "      <div>\n",
              "<style scoped>\n",
              "    .dataframe tbody tr th:only-of-type {\n",
              "        vertical-align: middle;\n",
              "    }\n",
              "\n",
              "    .dataframe tbody tr th {\n",
              "        vertical-align: top;\n",
              "    }\n",
              "\n",
              "    .dataframe thead th {\n",
              "        text-align: right;\n",
              "    }\n",
              "</style>\n",
              "<table border=\"1\" class=\"dataframe\">\n",
              "  <thead>\n",
              "    <tr style=\"text-align: right;\">\n",
              "      <th></th>\n",
              "      <th>Year</th>\n",
              "      <th>City</th>\n",
              "      <th>Waste_Type</th>\n",
              "      <th>Collected_Waste</th>\n",
              "      <th>Recycled_Waste</th>\n",
              "      <th>Recycling_Rate</th>\n",
              "      <th>Energy_Genrate</th>\n",
              "    </tr>\n",
              "  </thead>\n",
              "  <tbody>\n",
              "    <tr>\n",
              "      <th>0</th>\n",
              "      <td>2010</td>\n",
              "      <td>Aurangabad</td>\n",
              "      <td>Food waste</td>\n",
              "      <td>640500</td>\n",
              "      <td>102400</td>\n",
              "      <td>0.16</td>\n",
              "      <td>0</td>\n",
              "    </tr>\n",
              "    <tr>\n",
              "      <th>1</th>\n",
              "      <td>2010</td>\n",
              "      <td>Aurangabad</td>\n",
              "      <td>Paper/Cardboard</td>\n",
              "      <td>1383900</td>\n",
              "      <td>738200</td>\n",
              "      <td>0.53</td>\n",
              "      <td>1</td>\n",
              "    </tr>\n",
              "    <tr>\n",
              "      <th>2</th>\n",
              "      <td>2010</td>\n",
              "      <td>Aurangabad</td>\n",
              "      <td>Plastics</td>\n",
              "      <td>740400</td>\n",
              "      <td>78100</td>\n",
              "      <td>0.11</td>\n",
              "      <td>1</td>\n",
              "    </tr>\n",
              "    <tr>\n",
              "      <th>3</th>\n",
              "      <td>2010</td>\n",
              "      <td>Aurangabad</td>\n",
              "      <td>Construction Debris</td>\n",
              "      <td>921800</td>\n",
              "      <td>912400</td>\n",
              "      <td>0.99</td>\n",
              "      <td>1</td>\n",
              "    </tr>\n",
              "    <tr>\n",
              "      <th>4</th>\n",
              "      <td>2010</td>\n",
              "      <td>Aurangabad</td>\n",
              "      <td>Wood/Timber</td>\n",
              "      <td>270000</td>\n",
              "      <td>190000</td>\n",
              "      <td>0.70</td>\n",
              "      <td>1</td>\n",
              "    </tr>\n",
              "  </tbody>\n",
              "</table>\n",
              "</div>\n",
              "      <button class=\"colab-df-convert\" onclick=\"convertToInteractive('df-51de1716-7f44-4d37-a929-8b973c27da91')\"\n",
              "              title=\"Convert this dataframe to an interactive table.\"\n",
              "              style=\"display:none;\">\n",
              "        \n",
              "  <svg xmlns=\"http://www.w3.org/2000/svg\" height=\"24px\"viewBox=\"0 0 24 24\"\n",
              "       width=\"24px\">\n",
              "    <path d=\"M0 0h24v24H0V0z\" fill=\"none\"/>\n",
              "    <path d=\"M18.56 5.44l.94 2.06.94-2.06 2.06-.94-2.06-.94-.94-2.06-.94 2.06-2.06.94zm-11 1L8.5 8.5l.94-2.06 2.06-.94-2.06-.94L8.5 2.5l-.94 2.06-2.06.94zm10 10l.94 2.06.94-2.06 2.06-.94-2.06-.94-.94-2.06-.94 2.06-2.06.94z\"/><path d=\"M17.41 7.96l-1.37-1.37c-.4-.4-.92-.59-1.43-.59-.52 0-1.04.2-1.43.59L10.3 9.45l-7.72 7.72c-.78.78-.78 2.05 0 2.83L4 21.41c.39.39.9.59 1.41.59.51 0 1.02-.2 1.41-.59l7.78-7.78 2.81-2.81c.8-.78.8-2.07 0-2.86zM5.41 20L4 18.59l7.72-7.72 1.47 1.35L5.41 20z\"/>\n",
              "  </svg>\n",
              "      </button>\n",
              "      \n",
              "  <style>\n",
              "    .colab-df-container {\n",
              "      display:flex;\n",
              "      flex-wrap:wrap;\n",
              "      gap: 12px;\n",
              "    }\n",
              "\n",
              "    .colab-df-convert {\n",
              "      background-color: #E8F0FE;\n",
              "      border: none;\n",
              "      border-radius: 50%;\n",
              "      cursor: pointer;\n",
              "      display: none;\n",
              "      fill: #1967D2;\n",
              "      height: 32px;\n",
              "      padding: 0 0 0 0;\n",
              "      width: 32px;\n",
              "    }\n",
              "\n",
              "    .colab-df-convert:hover {\n",
              "      background-color: #E2EBFA;\n",
              "      box-shadow: 0px 1px 2px rgba(60, 64, 67, 0.3), 0px 1px 3px 1px rgba(60, 64, 67, 0.15);\n",
              "      fill: #174EA6;\n",
              "    }\n",
              "\n",
              "    [theme=dark] .colab-df-convert {\n",
              "      background-color: #3B4455;\n",
              "      fill: #D2E3FC;\n",
              "    }\n",
              "\n",
              "    [theme=dark] .colab-df-convert:hover {\n",
              "      background-color: #434B5C;\n",
              "      box-shadow: 0px 1px 3px 1px rgba(0, 0, 0, 0.15);\n",
              "      filter: drop-shadow(0px 1px 2px rgba(0, 0, 0, 0.3));\n",
              "      fill: #FFFFFF;\n",
              "    }\n",
              "  </style>\n",
              "\n",
              "      <script>\n",
              "        const buttonEl =\n",
              "          document.querySelector('#df-51de1716-7f44-4d37-a929-8b973c27da91 button.colab-df-convert');\n",
              "        buttonEl.style.display =\n",
              "          google.colab.kernel.accessAllowed ? 'block' : 'none';\n",
              "\n",
              "        async function convertToInteractive(key) {\n",
              "          const element = document.querySelector('#df-51de1716-7f44-4d37-a929-8b973c27da91');\n",
              "          const dataTable =\n",
              "            await google.colab.kernel.invokeFunction('convertToInteractive',\n",
              "                                                     [key], {});\n",
              "          if (!dataTable) return;\n",
              "\n",
              "          const docLinkHtml = 'Like what you see? Visit the ' +\n",
              "            '<a target=\"_blank\" href=https://colab.research.google.com/notebooks/data_table.ipynb>data table notebook</a>'\n",
              "            + ' to learn more about interactive tables.';\n",
              "          element.innerHTML = '';\n",
              "          dataTable['output_type'] = 'display_data';\n",
              "          await google.colab.output.renderOutput(dataTable, element);\n",
              "          const docLink = document.createElement('div');\n",
              "          docLink.innerHTML = docLinkHtml;\n",
              "          element.appendChild(docLink);\n",
              "        }\n",
              "      </script>\n",
              "    </div>\n",
              "  </div>\n",
              "  "
            ]
          },
          "metadata": {},
          "execution_count": 10
        }
      ],
      "source": [
        "data =  pd.read_csv(\"ml_data_set.csv\")\n",
        "data.head()\n"
      ]
    },
    {
      "cell_type": "markdown",
      "source": [
        "# New Section"
      ],
      "metadata": {
        "id": "TEuvXyXyIWHo"
      }
    },
    {
      "cell_type": "code",
      "execution_count": null,
      "metadata": {
        "id": "jR1avcmavCwg",
        "colab": {
          "base_uri": "https://localhost:8080/",
          "height": 489
        },
        "outputId": "1dc5a025-ceb7-4e2a-f470-3164301aca50"
      },
      "outputs": [
        {
          "output_type": "execute_result",
          "data": {
            "text/plain": [
              "Text(0.5, 1.0, 'Scatter plot on  dataset')"
            ]
          },
          "metadata": {},
          "execution_count": 11
        },
        {
          "output_type": "display_data",
          "data": {
            "text/plain": [
              "<Figure size 640x480 with 1 Axes>"
            ],
            "image/png": "[encoded data removed]"
          },
          "metadata": {}
        }
      ],
      "source": [
        "import matplotlib.pyplot as plt\n",
        "plt.scatter(data['Collected_Waste'],data['Recycled_Waste'])\n",
        "plt.xlabel('Collected waste ')\n",
        "plt.title('Scatter plot on  dataset')"
      ]
    },
    {
      "cell_type": "code",
      "execution_count": null,
      "metadata": {
        "id": "lmZG7l7YvFvE",
        "colab": {
          "base_uri": "https://localhost:8080/",
          "height": 465
        },
        "outputId": "293cc564-acaa-4acc-a119-b7746bd49c03"
      },
      "outputs": [
        {
          "output_type": "execute_result",
          "data": {
            "text/plain": [
              "<Axes: >"
            ]
          },
          "metadata": {},
          "execution_count": 12
        },
        {
          "output_type": "display_data",
          "data": {
            "text/plain": [
              "<Figure size 640x480 with 1 Axes>"
            ],
            "image/png": "[encoded data removed]"
          },
          "metadata": {}
        }
      ],
      "source": [
        "plt.style.use('ggplot')\n",
        "data['Collected_Waste'].hist()"
      ]
    },
    {
      "cell_type": "code",
      "execution_count": null,
      "metadata": {
        "id": "NcvSi_MSvJj0",
        "colab": {
          "base_uri": "https://localhost:8080/"
        },
        "outputId": "5e899d2e-6d7e-447c-9adf-5db6b22c18e1"
      },
      "outputs": [
        {
          "output_type": "execute_result",
          "data": {
            "text/plain": [
              "1    74\n",
              "0    52\n",
              "Name: Energy_Genrate, dtype: int64"
            ]
          },
          "metadata": {},
          "execution_count": 13
        }
      ],
      "source": [
        "data['Energy_Genrate'].value_counts()"
      ]
    },
    {
      "cell_type": "code",
      "execution_count": null,
      "metadata": {
        "id": "R8K3lyzvvL_Z",
        "colab": {
          "base_uri": "https://localhost:8080/",
          "height": 468
        },
        "outputId": "5136555a-21d6-4459-97b3-6c5dcc44800c"
      },
      "outputs": [
        {
          "output_type": "execute_result",
          "data": {
            "text/plain": [
              "     Year        City                              Waste_Type  \\\n",
              "0    2010  Aurangabad                              Food waste   \n",
              "1    2010  Aurangabad                         Paper/Cardboard   \n",
              "2    2010  Aurangabad                                Plastics   \n",
              "3    2010  Aurangabad                     Construction Debris   \n",
              "4    2010  Aurangabad                             Wood/Timber   \n",
              "..    ...         ...                                     ...   \n",
              "121  2018  Aurangabad                                  Sludge   \n",
              "122  2018  Aurangabad                                   Glass   \n",
              "123  2018  Aurangabad                         Textile/Leather   \n",
              "124  2018  Aurangabad                             Scrap Tyres   \n",
              "125  2018  Aurangabad  Others (stones, ceramics & rubber etc)   \n",
              "\n",
              "     Collected_Waste  Recycled_Waste  Recycling_Rate  Energy_Genrate  \n",
              "0             640500          102400            0.16               0  \n",
              "1            1383900          738200            0.53               1  \n",
              "2             740400           78100            0.11               1  \n",
              "3             921800          912400            0.99               1  \n",
              "4             270000          190000            0.70               1  \n",
              "..               ...             ...             ...             ...  \n",
              "121            88900               0            0.00               0  \n",
              "122            73100           15600            0.21               0  \n",
              "123           109100           12600            0.12               0  \n",
              "124            22600           18700            0.83               1  \n",
              "125           270900            3200            0.01               0  \n",
              "\n",
              "[126 rows x 7 columns]"
            ],
            "text/html": [
              "\n",
              "  <div id=\"df-2c48f52d-4bd0-4688-8327-78d9c349695f\">\n",
              "    <div class=\"colab-df-container\">\n",
              "      <div>\n",
              "<style scoped>\n",
              "    .dataframe tbody tr th:only-of-type {\n",
              "        vertical-align: middle;\n",
              "    }\n",
              "\n",
              "    .dataframe tbody tr th {\n",
              "        vertical-align: top;\n",
              "    }\n",
              "\n",
              "    .dataframe thead th {\n",
              "        text-align: right;\n",
              "    }\n",
              "</style>\n",
              "<table border=\"1\" class=\"dataframe\">\n",
              "  <thead>\n",
              "    <tr style=\"text-align: right;\">\n",
              "      <th></th>\n",
              "      <th>Year</th>\n",
              "      <th>City</th>\n",
              "      <th>Waste_Type</th>\n",
              "      <th>Collected_Waste</th>\n",
              "      <th>Recycled_Waste</th>\n",
              "      <th>Recycling_Rate</th>\n",
              "      <th>Energy_Genrate</th>\n",
              "    </tr>\n",
              "  </thead>\n",
              "  <tbody>\n",
              "    <tr>\n",
              "      <th>0</th>\n",
              "      <td>2010</td>\n",
              "      <td>Aurangabad</td>\n",
              "      <td>Food waste</td>\n",
              "      <td>640500</td>\n",
              "      <td>102400</td>\n",
              "      <td>0.16</td>\n",
              "      <td>0</td>\n",
              "    </tr>\n",
              "    <tr>\n",
              "      <th>1</th>\n",
              "      <td>2010</td>\n",
              "      <td>Aurangabad</td>\n",
              "      <td>Paper/Cardboard</td>\n",
              "      <td>1383900</td>\n",
              "      <td>738200</td>\n",
              "      <td>0.53</td>\n",
              "      <td>1</td>\n",
              "    </tr>\n",
              "    <tr>\n",
              "      <th>2</th>\n",
              "      <td>2010</td>\n",
              "      <td>Aurangabad</td>\n",
              "      <td>Plastics</td>\n",
              "      <td>740400</td>\n",
              "      <td>78100</td>\n",
              "      <td>0.11</td>\n",
              "      <td>1</td>\n",
              "    </tr>\n",
              "    <tr>\n",
              "      <th>3</th>\n",
              "      <td>2010</td>\n",
              "      <td>Aurangabad</td>\n",
              "      <td>Construction Debris</td>\n",
              "      <td>921800</td>\n",
              "      <td>912400</td>\n",
              "      <td>0.99</td>\n",
              "      <td>1</td>\n",
              "    </tr>\n",
              "    <tr>\n",
              "      <th>4</th>\n",
              "      <td>2010</td>\n",
              "      <td>Aurangabad</td>\n",
              "      <td>Wood/Timber</td>\n",
              "      <td>270000</td>\n",
              "      <td>190000</td>\n",
              "      <td>0.70</td>\n",
              "      <td>1</td>\n",
              "    </tr>\n",
              "    <tr>\n",
              "      <th>...</th>\n",
              "      <td>...</td>\n",
              "      <td>...</td>\n",
              "      <td>...</td>\n",
              "      <td>...</td>\n",
              "      <td>...</td>\n",
              "      <td>...</td>\n",
              "      <td>...</td>\n",
              "    </tr>\n",
              "    <tr>\n",
              "      <th>121</th>\n",
              "      <td>2018</td>\n",
              "      <td>Aurangabad</td>\n",
              "      <td>Sludge</td>\n",
              "      <td>88900</td>\n",
              "      <td>0</td>\n",
              "      <td>0.00</td>\n",
              "      <td>0</td>\n",
              "    </tr>\n",
              "    <tr>\n",
              "      <th>122</th>\n",
              "      <td>2018</td>\n",
              "      <td>Aurangabad</td>\n",
              "      <td>Glass</td>\n",
              "      <td>73100</td>\n",
              "      <td>15600</td>\n",
              "      <td>0.21</td>\n",
              "      <td>0</td>\n",
              "    </tr>\n",
              "    <tr>\n",
              "      <th>123</th>\n",
              "      <td>2018</td>\n",
              "      <td>Aurangabad</td>\n",
              "      <td>Textile/Leather</td>\n",
              "      <td>109100</td>\n",
              "      <td>12600</td>\n",
              "      <td>0.12</td>\n",
              "      <td>0</td>\n",
              "    </tr>\n",
              "    <tr>\n",
              "      <th>124</th>\n",
              "      <td>2018</td>\n",
              "      <td>Aurangabad</td>\n",
              "      <td>Scrap Tyres</td>\n",
              "      <td>22600</td>\n",
              "      <td>18700</td>\n",
              "      <td>0.83</td>\n",
              "      <td>1</td>\n",
              "    </tr>\n",
              "    <tr>\n",
              "      <th>125</th>\n",
              "      <td>2018</td>\n",
              "      <td>Aurangabad</td>\n",
              "      <td>Others (stones, ceramics &amp; rubber etc)</td>\n",
              "      <td>270900</td>\n",
              "      <td>3200</td>\n",
              "      <td>0.01</td>\n",
              "      <td>0</td>\n",
              "    </tr>\n",
              "  </tbody>\n",
              "</table>\n",
              "<p>126 rows × 7 columns</p>\n",
              "</div>\n",
              "      <button class=\"colab-df-convert\" onclick=\"convertToInteractive('df-2c48f52d-4bd0-4688-8327-78d9c349695f')\"\n",
              "              title=\"Convert this dataframe to an interactive table.\"\n",
              "              style=\"display:none;\">\n",
              "        \n",
              "  <svg xmlns=\"http://www.w3.org/2000/svg\" height=\"24px\"viewBox=\"0 0 24 24\"\n",
              "       width=\"24px\">\n",
              "    <path d=\"M0 0h24v24H0V0z\" fill=\"none\"/>\n",
              "    <path d=\"M18.56 5.44l.94 2.06.94-2.06 2.06-.94-2.06-.94-.94-2.06-.94 2.06-2.06.94zm-11 1L8.5 8.5l.94-2.06 2.06-.94-2.06-.94L8.5 2.5l-.94 2.06-2.06.94zm10 10l.94 2.06.94-2.06 2.06-.94-2.06-.94-.94-2.06-.94 2.06-2.06.94z\"/><path d=\"M17.41 7.96l-1.37-1.37c-.4-.4-.92-.59-1.43-.59-.52 0-1.04.2-1.43.59L10.3 9.45l-7.72 7.72c-.78.78-.78 2.05 0 2.83L4 21.41c.39.39.9.59 1.41.59.51 0 1.02-.2 1.41-.59l7.78-7.78 2.81-2.81c.8-.78.8-2.07 0-2.86zM5.41 20L4 18.59l7.72-7.72 1.47 1.35L5.41 20z\"/>\n",
              "  </svg>\n",
              "      </button>\n",
              "      \n",
              "  <style>\n",
              "    .colab-df-container {\n",
              "      display:flex;\n",
              "      flex-wrap:wrap;\n",
              "      gap: 12px;\n",
              "    }\n",
              "\n",
              "    .colab-df-convert {\n",
              "      background-color: #E8F0FE;\n",
              "      border: none;\n",
              "      border-radius: 50%;\n",
              "      cursor: pointer;\n",
              "      display: none;\n",
              "      fill: #1967D2;\n",
              "      height: 32px;\n",
              "      padding: 0 0 0 0;\n",
              "      width: 32px;\n",
              "    }\n",
              "\n",
              "    .colab-df-convert:hover {\n",
              "      background-color: #E2EBFA;\n",
              "      box-shadow: 0px 1px 2px rgba(60, 64, 67, 0.3), 0px 1px 3px 1px rgba(60, 64, 67, 0.15);\n",
              "      fill: #174EA6;\n",
              "    }\n",
              "\n",
              "    [theme=dark] .colab-df-convert {\n",
              "      background-color: #3B4455;\n",
              "      fill: #D2E3FC;\n",
              "    }\n",
              "\n",
              "    [theme=dark] .colab-df-convert:hover {\n",
              "      background-color: #434B5C;\n",
              "      box-shadow: 0px 1px 3px 1px rgba(0, 0, 0, 0.15);\n",
              "      filter: drop-shadow(0px 1px 2px rgba(0, 0, 0, 0.3));\n",
              "      fill: #FFFFFF;\n",
              "    }\n",
              "  </style>\n",
              "\n",
              "      <script>\n",
              "        const buttonEl =\n",
              "          document.querySelector('#df-2c48f52d-4bd0-4688-8327-78d9c349695f button.colab-df-convert');\n",
              "        buttonEl.style.display =\n",
              "          google.colab.kernel.accessAllowed ? 'block' : 'none';\n",
              "\n",
              "        async function convertToInteractive(key) {\n",
              "          const element = document.querySelector('#df-2c48f52d-4bd0-4688-8327-78d9c349695f');\n",
              "          const dataTable =\n",
              "            await google.colab.kernel.invokeFunction('convertToInteractive',\n",
              "                                                     [key], {});\n",
              "          if (!dataTable) return;\n",
              "\n",
              "          const docLinkHtml = 'Like what you see? Visit the ' +\n",
              "            '<a target=\"_blank\" href=https://colab.research.google.com/notebooks/data_table.ipynb>data table notebook</a>'\n",
              "            + ' to learn more about interactive tables.';\n",
              "          element.innerHTML = '';\n",
              "          dataTable['output_type'] = 'display_data';\n",
              "          await google.colab.output.renderOutput(dataTable, element);\n",
              "          const docLink = document.createElement('div');\n",
              "          docLink.innerHTML = docLinkHtml;\n",
              "          element.appendChild(docLink);\n",
              "        }\n",
              "      </script>\n",
              "    </div>\n",
              "  </div>\n",
              "  "
            ]
          },
          "metadata": {},
          "execution_count": 14
        }
      ],
      "source": [
        "data"
      ]
    },
    {
      "cell_type": "code",
      "execution_count": null,
      "metadata": {
        "id": "DDZl_qydvOD8",
        "colab": {
          "base_uri": "https://localhost:8080/"
        },
        "outputId": "f814f507-449c-407a-d85b-ccf8420f4c70"
      },
      "outputs": [
        {
          "output_type": "execute_result",
          "data": {
            "text/plain": [
              "array([0, 1, 1, 1, 1, 1, 1, 1, 1, 0, 0, 0, 1, 0, 0, 1, 0, 1, 1, 1, 1, 1,\n",
              "       1, 0, 0, 0, 1, 0, 0, 1, 0, 1, 1, 1, 1, 1, 1, 0, 0, 0, 1, 0, 0, 1,\n",
              "       0, 1, 1, 1, 1, 1, 1, 0, 0, 0, 1, 0, 0, 1, 0, 1, 1, 1, 1, 1, 1, 1,\n",
              "       0, 0, 1, 0, 0, 1, 0, 1, 1, 1, 1, 1, 1, 0, 0, 0, 1, 0, 0, 1, 0, 1,\n",
              "       1, 1, 1, 1, 1, 0, 0, 0, 1, 0, 1, 1, 1, 1, 1, 1, 1, 1, 0, 0, 0, 0,\n",
              "       0, 0, 0, 1, 0, 1, 1, 1, 1, 1, 1, 0, 0, 0, 1, 0])"
            ]
          },
          "metadata": {},
          "execution_count": 15
        }
      ],
      "source": [
        "############## changes needed\n",
        "\n",
        "#############\n",
        "\n",
        "\n",
        "# input\n",
        "x = data.iloc[:,2:6].values\n",
        "\n",
        "# output\n",
        "y = data.iloc[:,6].values\n",
        "y"
      ]
    },
    {
      "cell_type": "code",
      "execution_count": null,
      "metadata": {
        "id": "Ybh0u0I4vSUe",
        "colab": {
          "base_uri": "https://localhost:8080/"
        },
        "outputId": "c84b2768-f0b6-4c61-e63d-6acf14e76d44"
      },
      "outputs": [
        {
          "output_type": "execute_result",
          "data": {
            "text/plain": [
              "array([[3, 640500, 102400, 0.16],\n",
              "       [8, 1383900, 738200, 0.53],\n",
              "       [9, 740400, 78100, 0.11],\n",
              "       [0, 921800, 912400, 0.99],\n",
              "       [14, 270000, 190000, 0.7],\n",
              "       [5, 251000, 99200, 0.4],\n",
              "       [1, 1194600, 1127500, 0.94],\n",
              "       [6, 85500, 73100, 0.85],\n",
              "       [13, 382700, 378900, 0.99],\n",
              "       [11, 114400, 0, 0.0],\n",
              "       [4, 79900, 19200, 0.24],\n",
              "       [12, 120900, 14700, 0.12],\n",
              "       [10, 24000, 20000, 0.83],\n",
              "       [7, 307400, 3800, 0.01],\n",
              "       [3, 675500, 69700, 0.1],\n",
              "       [8, 1368200, 765000, 0.56],\n",
              "       [9, 733000, 77000, 0.11],\n",
              "       [0, 1203700, 1191100, 0.99],\n",
              "       [14, 273900, 176500, 0.64],\n",
              "       [5, 238800, 89000, 0.37],\n",
              "       [1, 1239200, 1171600, 0.95],\n",
              "       [6, 117300, 102800, 0.88],\n",
              "       [13, 341600, 335900, 0.98],\n",
              "       [11, 152900, 0, 0.0],\n",
              "       [4, 72800, 21400, 0.29],\n",
              "       [12, 131000, 17300, 0.13],\n",
              "       [10, 22000, 18300, 0.83],\n",
              "       [7, 328400, 3200, 0.01],\n",
              "       [3, 703200, 85100, 0.12],\n",
              "       [8, 1252000, 696700, 0.56],\n",
              "       [9, 803400, 82100, 0.1],\n",
              "       [0, 1291800, 1282700, 0.99],\n",
              "       [14, 343800, 236000, 0.69],\n",
              "       [5, 247800, 108000, 0.44],\n",
              "       [1, 1386000, 1331200, 0.96],\n",
              "       [6, 122500, 97300, 0.79],\n",
              "       [13, 367800, 358000, 0.97],\n",
              "       [11, 160200, 0, 0.0],\n",
              "       [4, 74900, 19500, 0.26],\n",
              "       [12, 159300, 18300, 0.11],\n",
              "       [10, 18400, 16100, 0.88],\n",
              "       [7, 338400, 4600, 0.01],\n",
              "       [3, 796000, 100000, 0.13],\n",
              "       [8, 1261100, 679400, 0.54],\n",
              "       [9, 832200, 91100, 0.11],\n",
              "       [0, 1695300, 1683000, 0.99],\n",
              "       [14, 332400, 254600, 0.77],\n",
              "       [5, 252600, 120900, 0.48],\n",
              "       [1, 1416000, 1369200, 0.97],\n",
              "       [6, 135100, 114000, 0.84],\n",
              "       [13, 353700, 344800, 0.97],\n",
              "       [11, 190600, 14200, 0.07],\n",
              "       [4, 73500, 14600, 0.2],\n",
              "       [12, 156600, 16300, 0.1],\n",
              "       [10, 21600, 19000, 0.88],\n",
              "       [7, 334800, 4800, 0.01],\n",
              "       [3, 788600, 101400, 0.13],\n",
              "       [8, 1237400, 646500, 0.52],\n",
              "       [9, 869000, 80000, 0.09],\n",
              "       [0, 1269700, 1260000, 0.99],\n",
              "       [14, 278300, 163000, 0.59],\n",
              "       [5, 367900, 293400, 0.8],\n",
              "       [1, 1445900, 1388900, 0.96],\n",
              "       [6, 118400, 94700, 0.8],\n",
              "       [13, 366300, 361200, 0.99],\n",
              "       [11, 148500, 21700, 0.15],\n",
              "       [4, 79500, 15700, 0.2],\n",
              "       [12, 158600, 16800, 0.11],\n",
              "       [10, 26200, 23100, 0.88],\n",
              "       [7, 360100, 4700, 0.01],\n",
              "       [3, 785500, 104100, 0.13],\n",
              "       [8, 1192200, 603700, 0.51],\n",
              "       [9, 824600, 57800, 0.07],\n",
              "       [0, 1411800, 1402900, 0.99],\n",
              "       [14, 362000, 237200, 0.66],\n",
              "       [5, 370600, 293700, 0.79],\n",
              "       [1, 1348500, 1333300, 0.99],\n",
              "       [6, 180000, 160400, 0.89],\n",
              "       [13, 369900, 365800, 0.99],\n",
              "       [11, 196000, 25200, 0.13],\n",
              "       [4, 75200, 14600, 0.19],\n",
              "       [12, 156700, 12500, 0.08],\n",
              "       [10, 35500, 32800, 0.92],\n",
              "       [7, 365000, 5700, 0.02],\n",
              "       [3, 791000, 111100, 0.14],\n",
              "       [8, 1183100, 607100, 0.51],\n",
              "       [9, 822200, 59500, 0.07],\n",
              "       [0, 1595400, 1585700, 0.99],\n",
              "       [14, 320500, 209000, 0.65],\n",
              "       [5, 530700, 411600, 0.78],\n",
              "       [1, 1357500, 1351500, 0.99],\n",
              "       [6, 97200, 95900, 0.99],\n",
              "       [13, 251100, 247000, 0.98],\n",
              "       [11, 227300, 28300, 0.13],\n",
              "       [4, 72300, 14700, 0.2],\n",
              "       [12, 150700, 10900, 0.07],\n",
              "       [10, 32700, 29700, 0.91],\n",
              "       [7, 382500, 7000, 0.02],\n",
              "       [3, 1609300, 1599900, 0.99],\n",
              "       [8, 1378800, 1371000, 0.99],\n",
              "       [9, 272500, 269400, 0.99],\n",
              "       [0, 93700, 92200, 0.98],\n",
              "       [14, 35900, 33000, 0.92],\n",
              "       [5, 424100, 326800, 0.77],\n",
              "       [2, 328300, 220700, 0.67],\n",
              "       [6, 1144800, 568800, 0.5],\n",
              "       [13, 71300, 12400, 0.17],\n",
              "       [11, 809800, 133000, 0.16],\n",
              "       [4, 243400, 28600, 0.12],\n",
              "       [12, 815200, 51800, 0.06],\n",
              "       [10, 150800, 9600, 0.06],\n",
              "       [7, 326400, 7100, 0.02],\n",
              "       [3, 606100, 76700, 0.13],\n",
              "       [8, 1201000, 574200, 0.48],\n",
              "       [9, 688900, 60300, 0.09],\n",
              "       [0, 1175800, 1150700, 0.98],\n",
              "       [14, 287600, 207400, 0.72],\n",
              "       [5, 238100, 93500, 0.39],\n",
              "       [1, 872000, 806200, 0.92],\n",
              "       [6, 57600, 47500, 0.82],\n",
              "       [13, 422400, 418600, 0.99],\n",
              "       [11, 88900, 0, 0.0],\n",
              "       [4, 73100, 15600, 0.21],\n",
              "       [12, 109100, 12600, 0.12],\n",
              "       [10, 22600, 18700, 0.83],\n",
              "       [7, 270900, 3200, 0.01]], dtype=object)"
            ]
          },
          "metadata": {},
          "execution_count": 16
        }
      ],
      "source": [
        "##labelencoding\n",
        "from sklearn.preprocessing import LabelEncoder\n",
        "le = LabelEncoder()\n",
        "x[:,0]= le.fit_transform (x[:,0])\n",
        "x\n"
      ]
    },
    {
      "cell_type": "code",
      "execution_count": null,
      "metadata": {
        "id": "waOyKORjvYql"
      },
      "outputs": [],
      "source": [
        "x_train, x_test, y_train, y_test = train_test_split(\n",
        "    x, y, test_size=0.25, random_state=0)"
      ]
    },
    {
      "cell_type": "code",
      "execution_count": null,
      "metadata": {
        "id": "6zh4uAOFvd-9",
        "colab": {
          "base_uri": "https://localhost:8080/",
          "height": 75
        },
        "outputId": "ccf7a053-0c11-4b00-9bbb-6c81733da8f6"
      },
      "outputs": [
        {
          "output_type": "execute_result",
          "data": {
            "text/plain": [
              "DecisionTreeClassifier(criterion='entropy', random_state=0)"
            ],
            "text/html": [
              "<style>#sk-container-id-1 {color: black;background-color: white;}#sk-container-id-1 pre{padding: 0;}#sk-container-id-1 div.sk-toggleable {background-color: white;}#sk-container-id-1 label.sk-toggleable__label {cursor: pointer;display: block;width: 100%;margin-bottom: 0;padding: 0.3em;box-sizing: border-box;text-align: center;}#sk-container-id-1 label.sk-toggleable__label-arrow:before {content: \"▸\";float: left;margin-right: 0.25em;color: #696969;}#sk-container-id-1 label.sk-toggleable__label-arrow:hover:before {color: black;}#sk-container-id-1 div.sk-estimator:hover label.sk-toggleable__label-arrow:before {color: black;}#sk-container-id-1 div.sk-toggleable__content {max-height: 0;max-width: 0;overflow: hidden;text-align: left;background-color: #f0f8ff;}#sk-container-id-1 div.sk-toggleable__content pre {margin: 0.2em;color: black;border-radius: 0.25em;background-color: #f0f8ff;}#sk-container-id-1 input.sk-toggleable__control:checked~div.sk-toggleable__content {max-height: 200px;max-width: 100%;overflow: auto;}#sk-container-id-1 input.sk-toggleable__control:checked~label.sk-toggleable__label-arrow:before {content: \"▾\";}#sk-container-id-1 div.sk-estimator input.sk-toggleable__control:checked~label.sk-toggleable__label {background-color: #d4ebff;}#sk-container-id-1 div.sk-label input.sk-toggleable__control:checked~label.sk-toggleable__label {background-color: #d4ebff;}#sk-container-id-1 input.sk-hidden--visually {border: 0;clip: rect(1px 1px 1px 1px);clip: rect(1px, 1px, 1px, 1px);height: 1px;margin: -1px;overflow: hidden;padding: 0;position: absolute;width: 1px;}#sk-container-id-1 div.sk-estimator {font-family: monospace;background-color: #f0f8ff;border: 1px dotted black;border-radius: 0.25em;box-sizing: border-box;margin-bottom: 0.5em;}#sk-container-id-1 div.sk-estimator:hover {background-color: #d4ebff;}#sk-container-id-1 div.sk-parallel-item::after {content: \"\";width: 100%;border-bottom: 1px solid gray;flex-grow: 1;}#sk-container-id-1 div.sk-label:hover label.sk-toggleable__label {background-color: #d4ebff;}#sk-container-id-1 div.sk-serial::before {content: \"\";position: absolute;border-left: 1px solid gray;box-sizing: border-box;top: 0;bottom: 0;left: 50%;z-index: 0;}#sk-container-id-1 div.sk-serial {display: flex;flex-direction: column;align-items: center;background-color: white;padding-right: 0.2em;padding-left: 0.2em;position: relative;}#sk-container-id-1 div.sk-item {position: relative;z-index: 1;}#sk-container-id-1 div.sk-parallel {display: flex;align-items: stretch;justify-content: center;background-color: white;position: relative;}#sk-container-id-1 div.sk-item::before, #sk-container-id-1 div.sk-parallel-item::before {content: \"\";position: absolute;border-left: 1px solid gray;box-sizing: border-box;top: 0;bottom: 0;left: 50%;z-index: -1;}#sk-container-id-1 div.sk-parallel-item {display: flex;flex-direction: column;z-index: 1;position: relative;background-color: white;}#sk-container-id-1 div.sk-parallel-item:first-child::after {align-self: flex-end;width: 50%;}#sk-container-id-1 div.sk-parallel-item:last-child::after {align-self: flex-start;width: 50%;}#sk-container-id-1 div.sk-parallel-item:only-child::after {width: 0;}#sk-container-id-1 div.sk-dashed-wrapped {border: 1px dashed gray;margin: 0 0.4em 0.5em 0.4em;box-sizing: border-box;padding-bottom: 0.4em;background-color: white;}#sk-container-id-1 div.sk-label label {font-family: monospace;font-weight: bold;display: inline-block;line-height: 1.2em;}#sk-container-id-1 div.sk-label-container {text-align: center;}#sk-container-id-1 div.sk-container {/* jupyter's `normalize.less` sets `[hidden] { display: none; }` but bootstrap.min.css set `[hidden] { display: none !important; }` so we also need the `!important` here to be able to override the default hidden behavior on the sphinx rendered scikit-learn.org. See: https://github.com/scikit-learn/scikit-learn/issues/21755 */display: inline-block !important;position: relative;}#sk-container-id-1 div.sk-text-repr-fallback {display: none;}</style><div id=\"sk-container-id-1\" class=\"sk-top-container\"><div class=\"sk-text-repr-fallback\"><pre>DecisionTreeClassifier(criterion=&#x27;entropy&#x27;, random_state=0)</pre><b>In a Jupyter environment, please rerun this cell to show the HTML representation or trust the notebook. <br />On GitHub, the HTML representation is unable to render, please try loading this page with nbviewer.org.</b></div><div class=\"sk-container\" hidden><div class=\"sk-item\"><div class=\"sk-estimator sk-toggleable\"><input class=\"sk-toggleable__control sk-hidden--visually\" id=\"sk-estimator-id-1\" type=\"checkbox\" checked><label for=\"sk-estimator-id-1\" class=\"sk-toggleable__label sk-toggleable__label-arrow\">DecisionTreeClassifier</label><div class=\"sk-toggleable__content\"><pre>DecisionTreeClassifier(criterion=&#x27;entropy&#x27;, random_state=0)</pre></div></div></div></div></div>"
            ]
          },
          "metadata": {},
          "execution_count": 18
        }
      ],
      "source": [
        "from sklearn.tree import DecisionTreeClassifier\n",
        "classifier = DecisionTreeClassifier(criterion = \"entropy\", random_state=0)\n",
        "classifier.fit(x_train, y_train)"
      ]
    },
    {
      "cell_type": "code",
      "execution_count": null,
      "metadata": {
        "id": "oWs8ukKPvhCK",
        "colab": {
          "base_uri": "https://localhost:8080/"
        },
        "outputId": "da8c9acb-f102-4ff4-fa39-09ef91955161"
      },
      "outputs": [
        {
          "output_type": "execute_result",
          "data": {
            "text/plain": [
              "array([1, 1, 1, 0, 1, 1, 1, 1, 1, 0, 0, 1, 1, 1, 0, 0, 1, 0, 1, 1, 0, 1,\n",
              "       0, 1, 0, 0, 1, 0, 1, 1, 1, 1])"
            ]
          },
          "metadata": {},
          "execution_count": 19
        }
      ],
      "source": [
        "Y_pred = classifier.predict(x_test)\n",
        "Y_pred"
      ]
    },
    {
      "cell_type": "code",
      "execution_count": null,
      "metadata": {
        "id": "pXt9FcbrvpBm",
        "colab": {
          "base_uri": "https://localhost:8080/"
        },
        "outputId": "4c978386-2dd9-4705-ef5d-dacf205607e6"
      },
      "outputs": [
        {
          "output_type": "stream",
          "name": "stdout",
          "text": [
            "    Energy_Genrate  Prediction\n",
            "0                1           1\n",
            "1                1           1\n",
            "2                1           1\n",
            "3                0           0\n",
            "4                1           1\n",
            "5                1           1\n",
            "6                1           1\n",
            "7                1           1\n",
            "8                1           1\n",
            "9                0           0\n",
            "10               0           0\n",
            "11               1           1\n",
            "12               1           1\n",
            "13               1           1\n",
            "14               0           0\n",
            "15               1           0\n",
            "16               1           1\n",
            "17               0           0\n",
            "18               1           1\n",
            "19               1           1\n",
            "20               0           0\n",
            "21               1           1\n",
            "22               0           0\n",
            "23               1           1\n",
            "24               0           0\n",
            "25               0           0\n",
            "26               1           1\n",
            "27               0           0\n",
            "28               1           1\n",
            "29               1           1\n",
            "30               1           1\n",
            "31               1           1\n"
          ]
        }
      ],
      "source": [
        "df_y_test= pd.DataFrame(y_test, columns = ['Energy_Genrate'])\n",
        "df_y_test_pred =  pd.DataFrame(Y_pred, columns = ['Prediction'])\n",
        "df_diff =df_y_test- df_y_test_pred\n",
        "Y_test_pred = pd.concat ([df_y_test, df_y_test_pred ],axis =1)\n",
        "\n",
        "print (Y_test_pred)"
      ]
    },
    {
      "cell_type": "code",
      "execution_count": null,
      "metadata": {
        "id": "r-ZGeisFvtA4",
        "colab": {
          "base_uri": "https://localhost:8080/"
        },
        "outputId": "9d423a1b-9680-4d5b-d3ee-e4a5f90011a4"
      },
      "outputs": [
        {
          "output_type": "stream",
          "name": "stdout",
          "text": [
            "0.8545454545454545\n"
          ]
        }
      ],
      "source": [
        "from sklearn.metrics import r2_score\n",
        "accuracy = r2_score(y_test,Y_pred)\n",
        "print (accuracy)"
      ]
    },
    {
      "cell_type": "code",
      "source": [
        "import pickle\n",
        "pickle_out = open(\"classifier.pkl\",\"wb\")\n",
        "pickle.dump(classifier,pickle_out)\n",
        "pickle_out.close()"
      ],
      "metadata": {
        "id": "FUh-2o8CbvKn"
      },
      "execution_count": null,
      "outputs": []
    }
  ],
  "metadata": {
    "colab": {
      "provenance": []
    },
    "kernelspec": {
      "display_name": "Python 3",
      "name": "python3"
    },
    "language_info": {
      "name": "python"
    }
  },
  "nbformat": 4,
  "nbformat_minor": 0
}